{
 "cells": [
  {
   "cell_type": "markdown",
   "metadata": {},
   "source": [
    "# Chapter 1: Introduction to Time Series\n",
    "- [Different types of data](#p1)\n",
    "  - Cross-sectional data\n",
    "  - Time series data\n",
    "  - Panel data\n",
    "\n",
    "- [Internal structures of time series](#p2)\n",
    "  - General trend\n",
    "  - Seasonality\n",
    "      - Run sequence plot\n",
    "      - Seasonal sub series plot\n",
    "      - Multiple box plots\n",
    "  - Cyclical changes\n",
    "  - Unexpected variations\n",
    "\n",
    "- [Models for time series analysis](#p3)\n",
    "  - Zero mean models\n",
    "  - Random walk\n",
    "  - Trend models\n",
    "  - Seasonality models\n",
    "\n",
    "- [Autocorrelation and Partial autocorrelation](#p4)"
   ]
  },
  {
   "cell_type": "markdown",
   "metadata": {},
   "source": [
    "<a name=\"p1\"></a>\n",
    "## Different types of data "
   ]
  },
  {
   "cell_type": "code",
   "execution_count": null,
   "metadata": {},
   "outputs": [],
   "source": []
  },
  {
   "cell_type": "code",
   "execution_count": null,
   "metadata": {},
   "outputs": [],
   "source": []
  },
  {
   "cell_type": "code",
   "execution_count": null,
   "metadata": {},
   "outputs": [],
   "source": []
  },
  {
   "cell_type": "code",
   "execution_count": null,
   "metadata": {},
   "outputs": [],
   "source": []
  },
  {
   "cell_type": "code",
   "execution_count": null,
   "metadata": {},
   "outputs": [],
   "source": []
  },
  {
   "cell_type": "markdown",
   "metadata": {},
   "source": [
    "<a name=\"p2\"></a>\n",
    "## Internal structures of time series"
   ]
  },
  {
   "cell_type": "markdown",
   "metadata": {},
   "source": [
    "<a name=\"p3\"></a>\n",
    "## Models for time series analysis"
   ]
  },
  {
   "cell_type": "markdown",
   "metadata": {},
   "source": [
    "<a name=\"p4\"></a>\n",
    "## Autocorrelation and Partial autocorrelation"
   ]
  },
  {
   "cell_type": "code",
   "execution_count": null,
   "metadata": {},
   "outputs": [],
   "source": []
  }
 ],
 "metadata": {
  "kernelspec": {
   "display_name": "Python 3",
   "language": "python",
   "name": "python3"
  },
  "language_info": {
   "codemirror_mode": {
    "name": "ipython",
    "version": 3
   },
   "file_extension": ".py",
   "mimetype": "text/x-python",
   "name": "python",
   "nbconvert_exporter": "python",
   "pygments_lexer": "ipython3",
   "version": "3.7.3"
  }
 },
 "nbformat": 4,
 "nbformat_minor": 4
}
